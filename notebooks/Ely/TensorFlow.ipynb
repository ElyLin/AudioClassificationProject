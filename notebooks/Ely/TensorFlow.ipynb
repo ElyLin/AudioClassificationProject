{
 "cells": [
  {
   "cell_type": "code",
   "execution_count": 1,
   "id": "65180abb",
   "metadata": {},
   "outputs": [],
   "source": [
    "import tensorflow as tf"
   ]
  },
  {
   "cell_type": "code",
   "execution_count": 4,
   "id": "e38603aa",
   "metadata": {},
   "outputs": [
    {
     "name": "stdout",
     "output_type": "stream",
     "text": [
      "Collecting tensorflow_datasets\n",
      "  Using cached tensorflow_datasets-4.4.0-py3-none-any.whl (4.0 MB)\n",
      "Collecting dill\n",
      "  Using cached dill-0.3.4-py2.py3-none-any.whl (86 kB)\n",
      "Collecting tqdm\n",
      "  Using cached tqdm-4.62.3-py2.py3-none-any.whl (76 kB)\n",
      "Requirement already satisfied: requests>=2.19.0 in /Users/elylin/mambaforge/envs/tensorflow/lib/python3.8/site-packages (from tensorflow_datasets) (2.27.1)\n",
      "Requirement already satisfied: importlib-resources in /Users/elylin/mambaforge/envs/tensorflow/lib/python3.8/site-packages (from tensorflow_datasets) (5.4.0)\n",
      "Requirement already satisfied: termcolor in /Users/elylin/mambaforge/envs/tensorflow/lib/python3.8/site-packages (from tensorflow_datasets) (1.1.0)\n",
      "Requirement already satisfied: six in /Users/elylin/mambaforge/envs/tensorflow/lib/python3.8/site-packages (from tensorflow_datasets) (1.15.0)\n",
      "Collecting tensorflow-metadata\n",
      "  Using cached tensorflow_metadata-1.5.0-py3-none-any.whl (48 kB)\n",
      "Requirement already satisfied: attrs>=18.1.0 in /Users/elylin/mambaforge/envs/tensorflow/lib/python3.8/site-packages (from tensorflow_datasets) (21.4.0)\n",
      "Collecting future\n",
      "  Using cached future-0.18.2-py3-none-any.whl\n",
      "Requirement already satisfied: absl-py in /Users/elylin/mambaforge/envs/tensorflow/lib/python3.8/site-packages (from tensorflow_datasets) (0.10.0)\n",
      "Collecting promise\n",
      "  Using cached promise-2.3-py3-none-any.whl\n",
      "Requirement already satisfied: protobuf>=3.12.2 in /Users/elylin/mambaforge/envs/tensorflow/lib/python3.8/site-packages (from tensorflow_datasets) (3.19.3)\n",
      "Requirement already satisfied: numpy in /Users/elylin/mambaforge/envs/tensorflow/lib/python3.8/site-packages (from tensorflow_datasets) (1.19.5)\n",
      "Requirement already satisfied: certifi>=2017.4.17 in /Users/elylin/mambaforge/envs/tensorflow/lib/python3.8/site-packages (from requests>=2.19.0->tensorflow_datasets) (2021.10.8)\n",
      "Requirement already satisfied: urllib3<1.27,>=1.21.1 in /Users/elylin/mambaforge/envs/tensorflow/lib/python3.8/site-packages (from requests>=2.19.0->tensorflow_datasets) (1.26.8)\n",
      "Requirement already satisfied: idna<4,>=2.5 in /Users/elylin/mambaforge/envs/tensorflow/lib/python3.8/site-packages (from requests>=2.19.0->tensorflow_datasets) (3.1)\n",
      "Requirement already satisfied: charset-normalizer~=2.0.0 in /Users/elylin/mambaforge/envs/tensorflow/lib/python3.8/site-packages (from requests>=2.19.0->tensorflow_datasets) (2.0.10)\n",
      "Requirement already satisfied: zipp>=3.1.0 in /Users/elylin/mambaforge/envs/tensorflow/lib/python3.8/site-packages (from importlib-resources->tensorflow_datasets) (3.7.0)\n",
      "Collecting googleapis-common-protos<2,>=1.52.0\n",
      "  Using cached googleapis_common_protos-1.54.0-py2.py3-none-any.whl (207 kB)\n",
      "Installing collected packages: googleapis-common-protos, tqdm, tensorflow-metadata, promise, future, dill, tensorflow-datasets\n",
      "Successfully installed dill-0.3.4 future-0.18.2 googleapis-common-protos-1.54.0 promise-2.3 tensorflow-datasets-4.4.0 tensorflow-metadata-1.5.0 tqdm-4.62.3\n"
     ]
    }
   ],
   "source": [
    "!pip install tensorflow_datasets"
   ]
  },
  {
   "cell_type": "code",
   "execution_count": 5,
   "id": "65261586",
   "metadata": {},
   "outputs": [],
   "source": [
    "import tensorflow_datasets as tfds"
   ]
  },
  {
   "cell_type": "code",
   "execution_count": null,
   "id": "c751cedd",
   "metadata": {},
   "outputs": [],
   "source": []
  }
 ],
 "metadata": {
  "kernelspec": {
   "display_name": "Python 3 (ipykernel)",
   "language": "python",
   "name": "python3"
  },
  "language_info": {
   "codemirror_mode": {
    "name": "ipython",
    "version": 3
   },
   "file_extension": ".py",
   "mimetype": "text/x-python",
   "name": "python",
   "nbconvert_exporter": "python",
   "pygments_lexer": "ipython3",
   "version": "3.8.12"
  }
 },
 "nbformat": 4,
 "nbformat_minor": 5
}
